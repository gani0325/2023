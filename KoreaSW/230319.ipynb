{
 "cells": [
  {
   "attachments": {},
   "cell_type": "markdown",
   "metadata": {},
   "source": [
    "Regular Expression HOWTO — Python 3.11.2 documentation\n",
    "\n",
    "#### [개인 (자율)] HOWTO로 복습\n",
    "- Functional Programming HOWTO\n",
    "    https://docs.python.org/3/howto/regex.html\n",
    "- Python 3.11.2 documentation\n",
    "    https://docs.python.org/3/howto/functional.html\n",
    "- 를 읽고, 직접 코드를 입력하며, 이해하시오.\n",
    "    추가 설명이 필요한 부분은 파일로 업로드 하시오."
   ]
  },
  {
   "attachments": {},
   "cell_type": "markdown",
   "metadata": {},
   "source": [
    "##### 🥕 Regular Expression HOWTO"
   ]
  },
  {
   "cell_type": "code",
   "execution_count": 51,
   "metadata": {},
   "outputs": [],
   "source": [
    "# 1️⃣ Simple Patterns\n",
    "## 대부분의 문자와 문자는 단순히 자신과 일치\n",
    "## 이 규칙에는 예외 -> 일부 문자는 특수 메타문자 이며 자체적으로 일치하지 않음\n",
    "## 일부 비정상적인 항목이 일치해야 한다는 신호를 보내거나 반복하거나 의미를 변경하여 RE의 다른 부분에 영향 줌"
   ]
  },
  {
   "cell_type": "code",
   "execution_count": 6,
   "metadata": {},
   "outputs": [
    {
     "data": {
      "text/plain": [
       "'\\n\\\\d : 모든 10진수와 일치\\n\\\\D : 숫자가 아닌 모든 문자와 일치\\n\\\\s : 모든 공백 문자와 일치\\n\\\\S : 공백이 아닌 모든 문자와 일치\\n\\\\w : 모든 영숫자 문자와 일치\\n\\\\W : 영숫자가 아닌 모든 문자와 일치\\n'"
      ]
     },
     "execution_count": 6,
     "metadata": {},
     "output_type": "execute_result"
    }
   ],
   "source": [
    "\"\"\"\n",
    "\\d : 모든 10진수와 일치\n",
    "\\D : 숫자가 아닌 모든 문자와 일치\n",
    "\\s : 모든 공백 문자와 일치\n",
    "\\S : 공백이 아닌 모든 문자와 일치\n",
    "\\w : 모든 영숫자 문자와 일치\n",
    "\\W : 영숫자가 아닌 모든 문자와 일치\n",
    "\"\"\""
   ]
  },
  {
   "cell_type": "code",
   "execution_count": 7,
   "metadata": {},
   "outputs": [],
   "source": [
    "# 2️⃣ Using Regular Expressions\n",
    "## re모듈은 정규식 엔진에 대한 인터페이스를 제공하여 RE를 개체로 컴파일한 다음 일치를 수행"
   ]
  },
  {
   "cell_type": "code",
   "execution_count": 11,
   "metadata": {},
   "outputs": [
    {
     "data": {
      "text/plain": [
       "'\\nre.compile()\\t정규표현식을 컴파일하는 함수\\nre.search()\\t문자열 전체에 대해서 정규표현식과 매치되는지를 검색\\nre.match()\\t문자열의 처음이 정규표현식과 매치되는지를 검색\\nre.split()\\t정규 표현식을 기준으로 문자열을 분리하여 리스트로 리턴\\nre.findall()\\t문자열에서 정규 표현식과 매치되는 모든 경우의 문자열을 찾아서 리스트로 리턴\\nre.finditer()\\t문자열에서 정규 표현식과 매치되는 모든 경우의 문자열에 대한 이터레이터 객체를 리턴\\nre.sub()\\t문자열에서 정규 표현식과 일치하는 부분에 대해서 다른 문자열로 대체\\n'"
      ]
     },
     "execution_count": 11,
     "metadata": {},
     "output_type": "execute_result"
    }
   ],
   "source": [
    "\"\"\"\n",
    "re.compile()\t정규표현식을 컴파일하는 함수\n",
    "re.search()\t문자열 전체에 대해서 정규표현식과 매치되는지를 검색\n",
    "re.match()\t문자열의 처음이 정규표현식과 매치되는지를 검색\n",
    "re.split()\t정규 표현식을 기준으로 문자열을 분리하여 리스트로 리턴\n",
    "re.findall()\t문자열에서 정규 표현식과 매치되는 모든 경우의 문자열을 찾아서 리스트로 리턴\n",
    "re.finditer()\t문자열에서 정규 표현식과 매치되는 모든 경우의 문자열에 대한 이터레이터 객체를 리턴\n",
    "re.sub()\t문자열에서 정규 표현식과 일치하는 부분에 대해서 다른 문자열로 대체\n",
    "\"\"\""
   ]
  },
  {
   "cell_type": "code",
   "execution_count": 4,
   "metadata": {},
   "outputs": [
    {
     "name": "stdout",
     "output_type": "stream",
     "text": [
      "re.compile('ab*')\n"
     ]
    }
   ],
   "source": [
    "import re\n",
    "p = re.compile('ab*')\n",
    "print(p)"
   ]
  },
  {
   "cell_type": "code",
   "execution_count": 12,
   "metadata": {},
   "outputs": [],
   "source": [
    "r = re.compile(\"a.c\")\n",
    "r.search(\"kkk\") # 아무런 결과도 출력되지 않는다."
   ]
  },
  {
   "cell_type": "code",
   "execution_count": 13,
   "metadata": {},
   "outputs": [],
   "source": [
    "r = re.compile(\"ab?c\")\n",
    "r.search(\"abbc\") # 아무런 결과도 출력되지 않는다."
   ]
  },
  {
   "cell_type": "code",
   "execution_count": 14,
   "metadata": {},
   "outputs": [],
   "source": [
    "r = re.compile(\"ab*c\")\n",
    "r.search(\"a\") # 아무런 결과도 출력되지 않는다."
   ]
  },
  {
   "cell_type": "code",
   "execution_count": 15,
   "metadata": {},
   "outputs": [],
   "source": [
    "r = re.compile(\"ab+c\")\n",
    "r.search(\"ac\") # 아무런 결과도 출력되지 않는다."
   ]
  },
  {
   "cell_type": "code",
   "execution_count": 16,
   "metadata": {},
   "outputs": [],
   "source": [
    "r = re.compile(\"^ab\")\n",
    "\n",
    "# 아무런 결과도 출력되지 않는다.\n",
    "r.search(\"bbc\")\n",
    "r.search(\"zab\")"
   ]
  },
  {
   "cell_type": "code",
   "execution_count": 17,
   "metadata": {},
   "outputs": [
    {
     "data": {
      "text/plain": [
       "'\\n메서드/어트리뷰트\\nmatch() : 문자열의 시작 부분에서 RE가 일치하는지 판단\\nsearch() : RE가 일치하는 위치를 찾으면서, 문자열을 훑음\\nfindall() : RE가 일치하는 모든 부분 문자열을 찾아 리스트로 반환\\nfinditer() : RE가 일치하는 모든 부분 문자열을 찾아 이터레이터로 반환\\n'"
      ]
     },
     "execution_count": 17,
     "metadata": {},
     "output_type": "execute_result"
    }
   ],
   "source": [
    "\"\"\"\n",
    "패턴 객체의 메서드/어트리뷰트\n",
    "match() : 문자열의 시작 부분에서 RE가 일치하는지 판단\n",
    "search() : RE가 일치하는 위치를 찾으면서, 문자열을 훑음\n",
    "findall() : RE가 일치하는 모든 부분 문자열을 찾아 리스트로 반환\n",
    "finditer() : RE가 일치하는 모든 부분 문자열을 찾아 이터레이터로 반환\n",
    "\"\"\""
   ]
  },
  {
   "cell_type": "code",
   "execution_count": 19,
   "metadata": {},
   "outputs": [
    {
     "name": "stdout",
     "output_type": "stream",
     "text": [
      "re.compile('[a-z]+')\n"
     ]
    }
   ],
   "source": [
    "import re\n",
    "p = re.compile('[a-z]+')\n",
    "print(p)"
   ]
  },
  {
   "cell_type": "code",
   "execution_count": 20,
   "metadata": {},
   "outputs": [
    {
     "name": "stdout",
     "output_type": "stream",
     "text": [
      "<re.Match object; span=(0, 5), match='tempo'>\n"
     ]
    }
   ],
   "source": [
    "m = p.match('tempo')\n",
    "print(m)"
   ]
  },
  {
   "cell_type": "code",
   "execution_count": 21,
   "metadata": {},
   "outputs": [
    {
     "data": {
      "text/plain": [
       "'\\n일치 객체 인스턴스의 메서드/어트리뷰트\\ngroup() : RE와 일치하는 문자열을 반환\\nstart() : 일치의 시작 위치를 반환\\nend() : 일치의 끝 위치를 반환\\nspan() : 일치의 (시작, 끝) 위치를 포함하는 튜플을 반환\\n'"
      ]
     },
     "execution_count": 21,
     "metadata": {},
     "output_type": "execute_result"
    }
   ],
   "source": [
    "\"\"\"\n",
    "일치 객체 인스턴스의 메서드/어트리뷰트\n",
    "group() : RE와 일치하는 문자열을 반환\n",
    "start() : 일치의 시작 위치를 반환\n",
    "end() : 일치의 끝 위치를 반환\n",
    "span() : 일치의 (시작, 끝) 위치를 포함하는 튜플을 반환\n",
    "\"\"\""
   ]
  },
  {
   "cell_type": "code",
   "execution_count": 22,
   "metadata": {},
   "outputs": [
    {
     "data": {
      "text/plain": [
       "'tempo'"
      ]
     },
     "execution_count": 22,
     "metadata": {},
     "output_type": "execute_result"
    }
   ],
   "source": [
    "m.group()"
   ]
  },
  {
   "cell_type": "code",
   "execution_count": 23,
   "metadata": {},
   "outputs": [
    {
     "data": {
      "text/plain": [
       "(0, 5)"
      ]
     },
     "execution_count": 23,
     "metadata": {},
     "output_type": "execute_result"
    }
   ],
   "source": [
    "m.start(), m.end()"
   ]
  },
  {
   "cell_type": "code",
   "execution_count": 24,
   "metadata": {},
   "outputs": [
    {
     "name": "stdout",
     "output_type": "stream",
     "text": [
      "None\n"
     ]
    }
   ],
   "source": [
    "print(p.match('::: message'))"
   ]
  },
  {
   "cell_type": "code",
   "execution_count": 25,
   "metadata": {},
   "outputs": [
    {
     "name": "stdout",
     "output_type": "stream",
     "text": [
      "<re.Match object; span=(4, 11), match='message'>\n"
     ]
    },
    {
     "data": {
      "text/plain": [
       "'message'"
      ]
     },
     "execution_count": 25,
     "metadata": {},
     "output_type": "execute_result"
    }
   ],
   "source": [
    "m = p.search('::: message'); print(m)\n",
    "m.group()"
   ]
  },
  {
   "cell_type": "code",
   "execution_count": 26,
   "metadata": {},
   "outputs": [
    {
     "data": {
      "text/plain": [
       "['12', '11', '10']"
      ]
     },
     "execution_count": 26,
     "metadata": {},
     "output_type": "execute_result"
    }
   ],
   "source": [
    "p = re.compile(r'\\d+')\n",
    "p.findall('12 drummers drumming, 11 pipers piping, 10 lords a-leaping')"
   ]
  },
  {
   "cell_type": "code",
   "execution_count": 27,
   "metadata": {},
   "outputs": [
    {
     "data": {
      "text/plain": [
       "'\\n컴파일 플래그를 사용하면 정규식의 작동 방식을 수정\\nASCII, A : \\\\w, \\x08, \\\\s 및 \\\\d와 같은 여러 이스케이프가 해당 속성이 있는 ASCII 문자에만 일치\\nDOTALL, S : .가 개행 문자를 포함한 모든 문자와 일치\\nIGNORECASE, I : 대소 문자 구분 없는 일치를 수행\\nLOCALE, L : 로케일을 고려하는 일치를 수행\\nMULTILINE, M : 다중 행 일치, ^와 $에 영향을 줌\\nVERBOSE, X (‘확장’ 용) : 더 명확하고 이해하기 쉽게 정리될 수 있는 상세한 RE를 활성화\\n'"
      ]
     },
     "execution_count": 27,
     "metadata": {},
     "output_type": "execute_result"
    }
   ],
   "source": [
    "\"\"\"\n",
    "컴파일 플래그를 사용하면 정규식의 작동 방식을 수정\n",
    "ASCII, A : \\w, \\b, \\s 및 \\d와 같은 여러 이스케이프가 해당 속성이 있는 ASCII 문자에만 일치\n",
    "DOTALL, S : .가 개행 문자를 포함한 모든 문자와 일치\n",
    "IGNORECASE, I : 대소 문자 구분 없는 일치를 수행\n",
    "LOCALE, L : 로케일을 고려하는 일치를 수행\n",
    "MULTILINE, M : 다중 행 일치, ^와 $에 영향을 줌\n",
    "VERBOSE, X (‘확장’ 용) : 더 명확하고 이해하기 쉽게 정리될 수 있는 상세한 RE를 활성화\n",
    "\"\"\""
   ]
  },
  {
   "cell_type": "code",
   "execution_count": 30,
   "metadata": {},
   "outputs": [
    {
     "data": {
      "text/plain": [
       "re.compile(r'\\n &[#]                # Start of a numeric entity reference\\n (\\n     0[0-7]+         # Octal form\\n   | [0-9]+          # Decimal form\\n   | x[0-9a-fA-F]+   # Hexadecimal form\\n )\\n ;                   # Trailing semicolon\\n',\n",
       "           re.UNICODE|re.VERBOSE)"
      ]
     },
     "execution_count": 30,
     "metadata": {},
     "output_type": "execute_result"
    }
   ],
   "source": [
    "charref = re.compile(r\"\"\"\n",
    " &[#]                # Start of a numeric entity reference\n",
    " (\n",
    "     0[0-7]+         # Octal form\n",
    "   | [0-9]+          # Decimal form\n",
    "   | x[0-9a-fA-F]+   # Hexadecimal form\n",
    " )\n",
    " ;                   # Trailing semicolon\n",
    "\"\"\", re.VERBOSE)\n",
    "charref"
   ]
  },
  {
   "cell_type": "code",
   "execution_count": 31,
   "metadata": {},
   "outputs": [
    {
     "data": {
      "text/plain": [
       "re.compile(r'&#(0[0-7]+|[0-9]+|x[0-9a-fA-F]+);', re.UNICODE)"
      ]
     },
     "execution_count": 31,
     "metadata": {},
     "output_type": "execute_result"
    }
   ],
   "source": [
    "charref = re.compile(\"&#(0[0-7]+\"\n",
    "                     \"|[0-9]+\"\n",
    "                     \"|x[0-9a-fA-F]+);\")\n",
    "charref"
   ]
  },
  {
   "cell_type": "code",
   "execution_count": 32,
   "metadata": {},
   "outputs": [],
   "source": [
    "# 3️⃣ More Pattern Power\n",
    "## 메타 문자"
   ]
  },
  {
   "cell_type": "code",
   "execution_count": 37,
   "metadata": {},
   "outputs": [
    {
     "data": {
      "text/plain": [
       "'\\n| : 대안, 또는 “or” 연산자\\n^ : 줄의 시작 부분에 위치\\n$ : 문자열의 끝이나 줄 바꿈 문자 다음에 오는 모든 위치\\n\\\\A : 문자열의 시작 부분에서만 위치\\n\\\\Z : 문자열 끝부분에서만 위치\\n\\x08 : 단어 경계\\n\\\\B : \\x08의 반대이며, 현재 위치가 단어 경계에 있지 않을 때만 위치\\n'"
      ]
     },
     "execution_count": 37,
     "metadata": {},
     "output_type": "execute_result"
    }
   ],
   "source": [
    "\"\"\"\n",
    "| : 대안, 또는 “or” 연산자\n",
    "^ : 줄의 시작 부분에 위치\n",
    "$ : 문자열의 끝이나 줄 바꿈 문자 다음에 오는 모든 위치\n",
    "\\A : 문자열의 시작 부분에서만 위치\n",
    "\\Z : 문자열 끝부분에서만 위치\n",
    "\\b : 단어 경계\n",
    "\\B : \\b의 반대이며, 현재 위치가 단어 경계에 있지 않을 때만 위치\n",
    "\"\"\""
   ]
  },
  {
   "cell_type": "code",
   "execution_count": 35,
   "metadata": {},
   "outputs": [
    {
     "name": "stdout",
     "output_type": "stream",
     "text": [
      "<re.Match object; span=(3, 8), match='class'>\n",
      "None\n"
     ]
    }
   ],
   "source": [
    "p = re.compile(r'\\bclass\\b')\n",
    "print(p.search('no class at all'))\n",
    "print(p.search('the declassified algorithm'))"
   ]
  },
  {
   "cell_type": "code",
   "execution_count": 36,
   "metadata": {},
   "outputs": [
    {
     "name": "stdout",
     "output_type": "stream",
     "text": [
      "None\n",
      "<re.Match object; span=(0, 7), match='\\x08class\\x08'>\n"
     ]
    }
   ],
   "source": [
    "p = re.compile('\\bclass\\b')\n",
    "print(p.search('no class at all'))\n",
    "print(p.search('\\b' + 'class' + '\\b'))"
   ]
  },
  {
   "cell_type": "code",
   "execution_count": 42,
   "metadata": {},
   "outputs": [
    {
     "data": {
      "text/plain": [
       "'\\n# 그룹\\n## 관심 있는 다른 구성 요소와 일치하는 몇 개의 서브 그룹으로 나누어진 RE를 작성하여 문자열 해부에 사용\\n## 한 번에 여러 개의 그룹 번호를 전달할 수 있으며, 이때 해당 그룹에 해당하는 값을 포함하는 튜플을 반환\\nFrom: author@example.com\\nUser-Agent: Thunderbird 1.5.0.9 (X11/20061227)\\nMIME-Version: 1.0\\nTo: editor@example.com\\n'"
      ]
     },
     "execution_count": 42,
     "metadata": {},
     "output_type": "execute_result"
    }
   ],
   "source": [
    "\"\"\"\n",
    "# 그룹\n",
    "## 관심 있는 다른 구성 요소와 일치하는 몇 개의 서브 그룹으로 나누어진 RE를 작성하여 문자열 해부에 사용\n",
    "## 한 번에 여러 개의 그룹 번호를 전달할 수 있으며, 이때 해당 그룹에 해당하는 값을 포함하는 튜플을 반환\n",
    "From: author@example.com\n",
    "User-Agent: Thunderbird 1.5.0.9 (X11/20061227)\n",
    "MIME-Version: 1.0\n",
    "To: editor@example.com\n",
    "\"\"\" "
   ]
  },
  {
   "cell_type": "code",
   "execution_count": 40,
   "metadata": {},
   "outputs": [
    {
     "name": "stdout",
     "output_type": "stream",
     "text": [
      "(0, 10)\n"
     ]
    }
   ],
   "source": [
    "p = re.compile('(ab)*')\n",
    "print(p.match('ababababab').span())"
   ]
  },
  {
   "cell_type": "code",
   "execution_count": 41,
   "metadata": {},
   "outputs": [
    {
     "data": {
      "text/plain": [
       "'ab'"
      ]
     },
     "execution_count": 41,
     "metadata": {},
     "output_type": "execute_result"
    }
   ],
   "source": [
    "p = re.compile('(a)b')\n",
    "m = p.match('ab')\n",
    "m.group()"
   ]
  },
  {
   "cell_type": "code",
   "execution_count": 44,
   "metadata": {},
   "outputs": [
    {
     "data": {
      "text/plain": [
       "('b', 'abc', 'b')"
      ]
     },
     "execution_count": 44,
     "metadata": {},
     "output_type": "execute_result"
    }
   ],
   "source": [
    "p = re.compile('(a(b)c)d')\n",
    "m = p.match('abcd')\n",
    "m.group(2,1,2)"
   ]
  },
  {
   "cell_type": "code",
   "execution_count": 45,
   "metadata": {},
   "outputs": [
    {
     "data": {
      "text/plain": [
       "'\\n# 비 포착 그룹과 이름 있는 그룹\\n## 복잡한 RE에서는, 그룹 번호를 추적하기가 어려움\\n## (?...)를 확장 문법으로 사용하는 것\\n'"
      ]
     },
     "execution_count": 45,
     "metadata": {},
     "output_type": "execute_result"
    }
   ],
   "source": [
    "\"\"\"\n",
    "# 비 포착 그룹과 이름 있는 그룹\n",
    "## 복잡한 RE에서는, 그룹 번호를 추적하기가 어려움\n",
    "## (?...)를 확장 문법으로 사용하는 것\n",
    "\"\"\""
   ]
  },
  {
   "cell_type": "code",
   "execution_count": 46,
   "metadata": {},
   "outputs": [
    {
     "data": {
      "text/plain": [
       "('c',)"
      ]
     },
     "execution_count": 46,
     "metadata": {},
     "output_type": "execute_result"
    }
   ],
   "source": [
    "m = re.match(\"([abc])+\", \"abc\")\n",
    "m.groups()"
   ]
  },
  {
   "cell_type": "code",
   "execution_count": 47,
   "metadata": {},
   "outputs": [
    {
     "data": {
      "text/plain": [
       "'Lots'"
      ]
     },
     "execution_count": 47,
     "metadata": {},
     "output_type": "execute_result"
    }
   ],
   "source": [
    "p = re.compile(r'(?P<word>\\b\\w+\\b)')\n",
    "m = p.search( '(((( Lots of punctuation )))' )\n",
    "m.group('word')"
   ]
  },
  {
   "cell_type": "code",
   "execution_count": 48,
   "metadata": {},
   "outputs": [
    {
     "data": {
      "text/plain": [
       "{'first': 'Jane', 'last': 'Doe'}"
      ]
     },
     "execution_count": 48,
     "metadata": {},
     "output_type": "execute_result"
    }
   ],
   "source": [
    "m = re.match(r'(?P<first>\\w+) (?P<last>\\w+)', 'Jane Doe')\n",
    "m.groupdict()"
   ]
  },
  {
   "cell_type": "code",
   "execution_count": 49,
   "metadata": {},
   "outputs": [
    {
     "data": {
      "text/plain": [
       "'\\n# 미리 보기 어서션 (lookahead assertion)\\n## (?=...) : 긍정적인 미리 보기 어서션\\n## 포함된 정규식(...로 표시)이 현재 위치에서 성공적으로 일치하면 성공하고, 그렇지 않으면 실패\\n## (?!...) : 부정적인 미리 보기 어서션\\n## 포함된 정규식이 문자열의 현재 위치에서 일치하지 않으면 성공\\n'"
      ]
     },
     "execution_count": 49,
     "metadata": {},
     "output_type": "execute_result"
    }
   ],
   "source": [
    "\"\"\"\n",
    "# 미리 보기 어서션 (lookahead assertion)\n",
    "## (?=...) : 긍정적인 미리 보기 어서션\n",
    "## 포함된 정규식(...로 표시)이 현재 위치에서 성공적으로 일치하면 성공하고, 그렇지 않으면 실패\n",
    "## (?!...) : 부정적인 미리 보기 어서션\n",
    "## 포함된 정규식이 문자열의 현재 위치에서 일치하지 않으면 성공\n",
    "\"\"\""
   ]
  },
  {
   "cell_type": "code",
   "execution_count": 52,
   "metadata": {},
   "outputs": [
    {
     "data": {
      "text/plain": [
       "'\\n메서드/어트리뷰트\\nsplit() : RE가 일치하는 모든 곳에서 분할하여, 문자열을 리스트로 분할\\nsub() : RE가 일치하는 모든 부분 문자열을 찾고, 다른 문자열로 대체\\nsubn() : sub()와 같은 일을 하지만, 새로운 문자열과 치환 횟수를 반환\\n'"
      ]
     },
     "execution_count": 52,
     "metadata": {},
     "output_type": "execute_result"
    }
   ],
   "source": [
    "# 4️⃣ Modifying Strings\n",
    "\"\"\"\n",
    "메서드/어트리뷰트\n",
    "split() : RE가 일치하는 모든 곳에서 분할하여, 문자열을 리스트로 분할\n",
    "sub() : RE가 일치하는 모든 부분 문자열을 찾고, 다른 문자열로 대체\n",
    "subn() : sub()와 같은 일을 하지만, 새로운 문자열과 치환 횟수를 반환\n",
    "\"\"\""
   ]
  },
  {
   "cell_type": "code",
   "execution_count": 53,
   "metadata": {},
   "outputs": [
    {
     "data": {
      "text/plain": [
       "['This', 'is', 'a', 'test', 'short', 'and', 'sweet', 'of', 'split', '']"
      ]
     },
     "execution_count": 53,
     "metadata": {},
     "output_type": "execute_result"
    }
   ],
   "source": [
    "p = re.compile(r'\\W+')\n",
    "p.split('This is a test, short and sweet, of split().')"
   ]
  },
  {
   "cell_type": "code",
   "execution_count": 55,
   "metadata": {},
   "outputs": [
    {
     "name": "stdout",
     "output_type": "stream",
     "text": [
      "['This', 'is', 'a', 'test', '']\n",
      "['This', '... ', 'is', ' ', 'a', ' ', 'test', '.', '']\n"
     ]
    }
   ],
   "source": [
    "p = re.compile(r'\\W+')\n",
    "p2 = re.compile(r'(\\W+)')\n",
    "print(p.split('This... is a test.'))\n",
    "print(p2.split('This... is a test.'))"
   ]
  },
  {
   "cell_type": "code",
   "execution_count": 56,
   "metadata": {},
   "outputs": [
    {
     "data": {
      "text/plain": [
       "['Words', 'words', 'words', '']"
      ]
     },
     "execution_count": 56,
     "metadata": {},
     "output_type": "execute_result"
    }
   ],
   "source": [
    "re.split(r'[\\W]+', 'Words, words, words.')"
   ]
  },
  {
   "cell_type": "code",
   "execution_count": 57,
   "metadata": {},
   "outputs": [
    {
     "data": {
      "text/plain": [
       "'\\n# 검색과 치환\\n## 패턴에 대한 모든 일치를 찾아 다른 문자열로 치환하는 것\\n.sub(replacement, string[, count=0]) : \\nstring에서 가장 왼쪽에 나타나는 겹쳐지지 않은 RE의 일치를 replacement로 치환한 문자열을 반환\\n'"
      ]
     },
     "execution_count": 57,
     "metadata": {},
     "output_type": "execute_result"
    }
   ],
   "source": [
    "\"\"\"\n",
    "# 검색과 치환\n",
    "## 패턴에 대한 모든 일치를 찾아 다른 문자열로 치환하는 것\n",
    ".sub(replacement, string[, count=0]) : \n",
    "string에서 가장 왼쪽에 나타나는 겹쳐지지 않은 RE의 일치를 replacement로 치환한 문자열을 반환\n",
    "\"\"\""
   ]
  },
  {
   "cell_type": "code",
   "execution_count": 58,
   "metadata": {},
   "outputs": [
    {
     "data": {
      "text/plain": [
       "'colour socks and colour shoes'"
      ]
     },
     "execution_count": 58,
     "metadata": {},
     "output_type": "execute_result"
    }
   ],
   "source": [
    "p = re.compile('(blue|white|red)')\n",
    "p.sub('colour', 'blue socks and red shoes')"
   ]
  },
  {
   "cell_type": "code",
   "execution_count": 59,
   "metadata": {},
   "outputs": [
    {
     "data": {
      "text/plain": [
       "('colour socks and colour shoes', 2)"
      ]
     },
     "execution_count": 59,
     "metadata": {},
     "output_type": "execute_result"
    }
   ],
   "source": [
    "p = re.compile('(blue|white|red)')\n",
    "p.subn('colour', 'blue socks and red shoes')"
   ]
  },
  {
   "cell_type": "code",
   "execution_count": 60,
   "metadata": {},
   "outputs": [
    {
     "data": {
      "text/plain": [
       "'-a-b--d-'"
      ]
     },
     "execution_count": 60,
     "metadata": {},
     "output_type": "execute_result"
    }
   ],
   "source": [
    "p = re.compile('x*')\n",
    "p.sub('-', 'abxd')"
   ]
  },
  {
   "cell_type": "code",
   "execution_count": 61,
   "metadata": {},
   "outputs": [
    {
     "data": {
      "text/plain": [
       "'subsection{First}'"
      ]
     },
     "execution_count": 61,
     "metadata": {},
     "output_type": "execute_result"
    }
   ],
   "source": [
    "p = re.compile('section{ (?P<name> [^}]* ) }', re.VERBOSE)\n",
    "p.sub(r'subsection{\\1}','section{First}')"
   ]
  },
  {
   "cell_type": "code",
   "execution_count": 62,
   "metadata": {},
   "outputs": [],
   "source": [
    "# 5️⃣ Common Problems\n",
    "## 어떤 면에서는 동작이 직관적이지 않고 때때로 예상대로 동작하지 않을 수도 있음"
   ]
  },
  {
   "cell_type": "code",
   "execution_count": null,
   "metadata": {},
   "outputs": [],
   "source": [
    "\"\"\"\n",
    "# 문자열 메서드\n",
    ": 문자열은 고정 문자열을 사용하는 연산을 수행하는 몇 가지 메서드를 가지고 있으며, 대개 훨씬 빠름\n",
    ": 문자열에서 단일 문자를 모두 삭제하거나 다른 단일 문자로 바꾸는 것\n",
    "\n",
    "# match()와 search() 비교\n",
    ": match() 함수는 문자열 시작 부분에서 RE가 일치하는지만 확인\n",
    ": search()는 일치를 찾기 위해 문자열을 정방향으로 검색\n",
    "\"\"\""
   ]
  },
  {
   "cell_type": "code",
   "execution_count": 63,
   "metadata": {},
   "outputs": [
    {
     "name": "stdout",
     "output_type": "stream",
     "text": [
      "(0, 5)\n"
     ]
    }
   ],
   "source": [
    "print(re.match('super', 'superstition').span())"
   ]
  },
  {
   "cell_type": "code",
   "execution_count": 64,
   "metadata": {},
   "outputs": [
    {
     "name": "stdout",
     "output_type": "stream",
     "text": [
      "None\n"
     ]
    }
   ],
   "source": [
    "print(re.match('super', 'insuperable'))"
   ]
  },
  {
   "cell_type": "code",
   "execution_count": 65,
   "metadata": {},
   "outputs": [
    {
     "name": "stdout",
     "output_type": "stream",
     "text": [
      "(0, 5)\n"
     ]
    }
   ],
   "source": [
    "print(re.search('super', 'superstition').span())"
   ]
  },
  {
   "cell_type": "code",
   "execution_count": 1,
   "metadata": {},
   "outputs": [
    {
     "data": {
      "text/plain": [
       "'\\n# 탐욕적과 비 탐욕적 비교\\n## a*에서와같이 정규식을 반복할 때, 결과 동작은 가능한 한 많은 패턴을 소비하는 것\\n## HTML 태그를 둘러싼 화살 괄호(angle brackets)와 같이 쌍을 이루는 구분 기호 쌍을 일치시키려고 할 때 힘듦\\n## 하나의 HTML 태그를 일치하는 나이브한 패턴은 .*의 탐욕스러운 성격 때문에 작동하지 않음\\n'"
      ]
     },
     "execution_count": 1,
     "metadata": {},
     "output_type": "execute_result"
    }
   ],
   "source": [
    "\"\"\"\n",
    "# 탐욕적과 비 탐욕적 비교\n",
    "## a*에서와같이 정규식을 반복할 때, 결과 동작은 가능한 한 많은 패턴을 소비하는 것\n",
    "## HTML 태그를 둘러싼 화살 괄호(angle brackets)와 같이 쌍을 이루는 구분 기호 쌍을 일치시키려고 할 때 힘듦\n",
    "## 하나의 HTML 태그를 일치하는 나이브한 패턴은 .*의 탐욕스러운 성격 때문에 작동하지 않음\n",
    "\"\"\""
   ]
  },
  {
   "cell_type": "code",
   "execution_count": 67,
   "metadata": {},
   "outputs": [
    {
     "data": {
      "text/plain": [
       "32"
      ]
     },
     "execution_count": 67,
     "metadata": {},
     "output_type": "execute_result"
    }
   ],
   "source": [
    "s = '<html><head><title>Title</title>'\n",
    "len(s)"
   ]
  },
  {
   "cell_type": "code",
   "execution_count": 68,
   "metadata": {},
   "outputs": [
    {
     "name": "stdout",
     "output_type": "stream",
     "text": [
      "(0, 32)\n"
     ]
    }
   ],
   "source": [
    "print(re.match('<.*>', s).span())"
   ]
  },
  {
   "cell_type": "code",
   "execution_count": 69,
   "metadata": {},
   "outputs": [
    {
     "name": "stdout",
     "output_type": "stream",
     "text": [
      "<html><head><title>Title</title>\n"
     ]
    }
   ],
   "source": [
    "print(re.match('<.*>', s).group())"
   ]
  },
  {
   "cell_type": "code",
   "execution_count": 70,
   "metadata": {},
   "outputs": [
    {
     "name": "stdout",
     "output_type": "stream",
     "text": [
      "<html>\n"
     ]
    }
   ],
   "source": [
    "print(re.match('<.*?>', s).group())"
   ]
  },
  {
   "cell_type": "code",
   "execution_count": 2,
   "metadata": {},
   "outputs": [
    {
     "data": {
      "text/plain": [
       "'\\n# re.VERBOSE 사용하기\\n## 문자 클래스 안에 있지 않은 공백이 무시\\n## 주석을 RE에 넣을 수도 있음 (주석은 # 문자에서 다음 줄 바꿈까지 확장)\\n## 삼중 따옴표로 묶은 문자열과 함께 사용하면, RE를 더 깔끔하게 포맷됨\\n'"
      ]
     },
     "execution_count": 2,
     "metadata": {},
     "output_type": "execute_result"
    }
   ],
   "source": [
    "\"\"\"\n",
    "# re.VERBOSE 사용하기\n",
    "## 문자 클래스 안에 있지 않은 공백이 무시\n",
    "## 주석을 RE에 넣을 수도 있음 (주석은 # 문자에서 다음 줄 바꿈까지 확장)\n",
    "## 삼중 따옴표로 묶은 문자열과 함께 사용하면, RE를 더 깔끔하게 포맷됨\n",
    "\"\"\""
   ]
  },
  {
   "cell_type": "code",
   "execution_count": 6,
   "metadata": {},
   "outputs": [
    {
     "data": {
      "text/plain": [
       "re.compile(r\"\\n \\s*                 # Skip leading whitespace\\n (?P<header>[^:]+)   # Header name\\n \\s* :               # Whitespace, and a colon\\n (?P<value>.*?)      # The header's value -- *? used to\\n                     # lose the following trailing whitespace\\n \\s*$                # Trailing whitespace to end-of-line\\n\",\n",
       "           re.UNICODE|re.VERBOSE)"
      ]
     },
     "execution_count": 6,
     "metadata": {},
     "output_type": "execute_result"
    }
   ],
   "source": [
    "pat = re.compile(r\"\"\"\n",
    " \\s*                 # Skip leading whitespace\n",
    " (?P<header>[^:]+)   # Header name\n",
    " \\s* :               # Whitespace, and a colon\n",
    " (?P<value>.*?)      # The header's value -- *? used to\n",
    "                     # lose the following trailing whitespace\n",
    " \\s*$                # Trailing whitespace to end-of-line\n",
    "\"\"\", re.VERBOSE)\n",
    "pat"
   ]
  },
  {
   "cell_type": "code",
   "execution_count": 7,
   "metadata": {},
   "outputs": [
    {
     "data": {
      "text/plain": [
       "re.compile(r'\\s*(?P<header>[^:]+)\\s*:(?P<value>.*?)\\s*$', re.UNICODE)"
      ]
     },
     "execution_count": 7,
     "metadata": {},
     "output_type": "execute_result"
    }
   ],
   "source": [
    "pat = re.compile(r\"\\s*(?P<header>[^:]+)\\s*:(?P<value>.*?)\\s*$\")\n",
    "pat"
   ]
  },
  {
   "attachments": {},
   "cell_type": "markdown",
   "metadata": {},
   "source": [
    "##### 2️⃣ Functional Programming HOWTO\n",
    "###### 대부분의 프로그래밍 언어는 절차적\n",
    "###### 프로그램은 프로그램의 입력으로 수행할 작업을 컴퓨터에 지시하는 명령 목록\n",
    "###### 선언적 언어 에서는 해결해야 할 문제를 설명하는 사양을 작성하고 언어 구현은 계산을 효율적으로 수행하는 방법을 파악\n",
    "###### 객체 지향 프로그램은 객체 컬렉션을 조작 (개체에는 내부 상태가 있으며 어떤 방식으로든 이 내부 상태를 쿼리하거나 수정하는 메서드를 지원)\n",
    "###### 스몰토크와 자바는 객체 지향 언어\n",
    "###### 함수형 프로그래밍은 문제를 일련의 함수로 분해"
   ]
  },
  {
   "cell_type": "code",
   "execution_count": 16,
   "metadata": {},
   "outputs": [
    {
     "data": {
      "text/plain": [
       "'\\n# 반복자\\n## 데이터 스트림을 나타내는 개체\\n## 한 번에 한 요소씩 데이터를 반환\\n## __next__() : 인수를 사용하지 않고 항상 스트림의 다음 요소를 반환하는 호출된 메서드를 지원\\n## 스트림에 더 이상 요소가 없으면 예외를 __next__() 발생\\n'"
      ]
     },
     "execution_count": 16,
     "metadata": {},
     "output_type": "execute_result"
    }
   ],
   "source": [
    "# 1️⃣ Iterators\n",
    "\"\"\"\n",
    "# 반복자\n",
    "## 데이터 스트림을 나타내는 개체\n",
    "## 한 번에 한 요소씩 데이터를 반환\n",
    "## __next__() : 인수를 사용하지 않고 항상 스트림의 다음 요소를 반환하는 호출된 메서드를 지원\n",
    "## 스트림에 더 이상 요소가 없으면 예외를 __next__() 발생\n",
    "\"\"\""
   ]
  },
  {
   "cell_type": "code",
   "execution_count": 9,
   "metadata": {},
   "outputs": [
    {
     "data": {
      "text/plain": [
       "<list_iterator at 0x7f34a814a2f0>"
      ]
     },
     "execution_count": 9,
     "metadata": {},
     "output_type": "execute_result"
    }
   ],
   "source": [
    "L = [1, 2, 3]\n",
    "it = iter(L)\n",
    "it"
   ]
  },
  {
   "cell_type": "code",
   "execution_count": 10,
   "metadata": {},
   "outputs": [
    {
     "data": {
      "text/plain": [
       "1"
      ]
     },
     "execution_count": 10,
     "metadata": {},
     "output_type": "execute_result"
    }
   ],
   "source": [
    "it.__next__()  # same as next(it)"
   ]
  },
  {
   "cell_type": "code",
   "execution_count": 12,
   "metadata": {},
   "outputs": [
    {
     "data": {
      "text/plain": [
       "(1, 2, 3)"
      ]
     },
     "execution_count": 12,
     "metadata": {},
     "output_type": "execute_result"
    }
   ],
   "source": [
    "L = [1, 2, 3]\n",
    "iterator = iter(L)\n",
    "t = tuple(iterator)\n",
    "t"
   ]
  },
  {
   "cell_type": "code",
   "execution_count": 13,
   "metadata": {},
   "outputs": [
    {
     "name": "stdout",
     "output_type": "stream",
     "text": [
      "Jan 1\n",
      "Feb 2\n",
      "Mar 3\n",
      "Apr 4\n",
      "May 5\n",
      "Jun 6\n",
      "Jul 7\n",
      "Aug 8\n",
      "Sep 9\n",
      "Oct 10\n",
      "Nov 11\n",
      "Dec 12\n"
     ]
    }
   ],
   "source": [
    "m = {'Jan': 1, 'Feb': 2, 'Mar': 3, 'Apr': 4, 'May': 5, 'Jun': 6,\n",
    "     'Jul': 7, 'Aug': 8, 'Sep': 9, 'Oct': 10, 'Nov': 11, 'Dec': 12}\n",
    "for key in m:\n",
    "    print(key, m[key])"
   ]
  },
  {
   "cell_type": "code",
   "execution_count": null,
   "metadata": {},
   "outputs": [],
   "source": [
    "\"\"\"\n",
    "# iter()\n",
    "## 값 또는 키/값 쌍을 반복하려면 values()또는 items()메서드를 명시적으로 호출하여 적절한 반복자를 가져옴\n",
    "## dict()는 유한한 튜플 스트림을 반환하는 반복자를 허용 (key, value)\n",
    "\"\"\""
   ]
  },
  {
   "cell_type": "code",
   "execution_count": 14,
   "metadata": {},
   "outputs": [
    {
     "data": {
      "text/plain": [
       "{'Italy': 'Rome', 'France': 'Paris', 'US': 'Washington DC'}"
      ]
     },
     "execution_count": 14,
     "metadata": {},
     "output_type": "execute_result"
    }
   ],
   "source": [
    "L = [('Italy', 'Rome'), ('France', 'Paris'), ('US', 'Washington DC')]\n",
    "dict(iter(L))"
   ]
  },
  {
   "cell_type": "code",
   "execution_count": 15,
   "metadata": {},
   "outputs": [
    {
     "name": "stdout",
     "output_type": "stream",
     "text": [
      "2\n",
      "3\n",
      "5\n",
      "7\n",
      "11\n",
      "13\n"
     ]
    }
   ],
   "source": [
    "S = {2, 3, 5, 7, 11, 13}\n",
    "for i in S:\n",
    "    print(i)"
   ]
  },
  {
   "cell_type": "code",
   "execution_count": 17,
   "metadata": {},
   "outputs": [
    {
     "data": {
      "text/plain": [
       "'\\n반복자의 출력에 대한 두 가지 일반적인 작업은 \\n1) 모든 요소에 대해 일부 작업 수행\\n2) 일부 조건을 충족하는 요소의 하위 집합 선택\\n'"
      ]
     },
     "execution_count": 17,
     "metadata": {},
     "output_type": "execute_result"
    }
   ],
   "source": [
    "# 2️⃣ Using Regular Expressions\n",
    "\"\"\"\n",
    "반복자의 출력에 대한 두 가지 일반적인 작업은 \n",
    "1) 모든 요소에 대해 일부 작업 수행\n",
    "2) 일부 조건을 충족하는 요소의 하위 집합 선택\n",
    "\"\"\""
   ]
  },
  {
   "cell_type": "code",
   "execution_count": 19,
   "metadata": {},
   "outputs": [
    {
     "data": {
      "text/plain": [
       "<generator object <genexpr> at 0x7f348b73bd10>"
      ]
     },
     "execution_count": 19,
     "metadata": {},
     "output_type": "execute_result"
    }
   ],
   "source": [
    "line_list = ['  line 1\\n', 'line 2  \\n', ' \\n', '']\n",
    "\n",
    "# Generator expression -- returns iterator\n",
    "stripped_iter = (line.strip() for line in line_list)\n",
    "stripped_iter"
   ]
  },
  {
   "cell_type": "code",
   "execution_count": 20,
   "metadata": {},
   "outputs": [
    {
     "data": {
      "text/plain": [
       "<generator object <genexpr> at 0x7f348b73bd10>"
      ]
     },
     "execution_count": 20,
     "metadata": {},
     "output_type": "execute_result"
    }
   ],
   "source": [
    "# List comprehension -- returns list\n",
    "stripped_list = [line.strip() for line in line_list]\n",
    "stripped_iter"
   ]
  },
  {
   "cell_type": "code",
   "execution_count": 21,
   "metadata": {},
   "outputs": [
    {
     "data": {
      "text/plain": [
       "['line 1', 'line 2', '']"
      ]
     },
     "execution_count": 21,
     "metadata": {},
     "output_type": "execute_result"
    }
   ],
   "source": [
    "stripped_list = [line.strip() for line in line_list\n",
    "                 if line != \"\"]\n",
    "stripped_list"
   ]
  },
  {
   "cell_type": "code",
   "execution_count": 25,
   "metadata": {},
   "outputs": [
    {
     "data": {
      "text/plain": [
       "'\\n# 제너레이터 표현식\\n## 괄호(\"()\")로 묶고 목록 내포는 대괄호(\"[]\")로 묶음\\n\\n# 제너레이터\\n## 반복자 작성 작업을 단순화하는 특수 클래스의 함수\\n## 일반 함수는 값을 계산하고 반환하지만 생성기는 값 스트림을 반환하는 반복자를 반환\\n'"
      ]
     },
     "execution_count": 25,
     "metadata": {},
     "output_type": "execute_result"
    }
   ],
   "source": [
    "# 3️⃣ Generators\n",
    "\"\"\"\n",
    "# 제너레이터 표현식\n",
    "## 괄호(\"()\")로 묶고 목록 내포는 대괄호(\"[]\")로 묶음\n",
    "\n",
    "# 제너레이터\n",
    "## 반복자 작성 작업을 단순화하는 특수 클래스의 함수\n",
    "## 일반 함수는 값을 계산하고 반환하지만 생성기는 값 스트림을 반환하는 반복자를 반환\n",
    "\"\"\""
   ]
  },
  {
   "cell_type": "code",
   "execution_count": 23,
   "metadata": {},
   "outputs": [
    {
     "data": {
      "text/plain": [
       "[('a', 1),\n",
       " ('a', 2),\n",
       " ('a', 3),\n",
       " ('b', 1),\n",
       " ('b', 2),\n",
       " ('b', 3),\n",
       " ('c', 1),\n",
       " ('c', 2),\n",
       " ('c', 3)]"
      ]
     },
     "execution_count": 23,
     "metadata": {},
     "output_type": "execute_result"
    }
   ],
   "source": [
    "seq1 = 'abc'\n",
    "seq2 = (1, 2, 3)\n",
    "[(x, y) for x in seq1 for y in seq2]  "
   ]
  },
  {
   "cell_type": "code",
   "execution_count": 27,
   "metadata": {},
   "outputs": [],
   "source": [
    "# 키워드를 포함하는 모든 함수는 yield 생성기 함수\n",
    "# 생성기 함수를 호출하면 단일 값을 반환하지 않습니다. 대신 반복자 프로토콜을 지원하는 생성기 개체를 반환\n",
    "def generate_ints(N):\n",
    "   for i in range(N):\n",
    "       yield i"
   ]
  },
  {
   "cell_type": "code",
   "execution_count": 28,
   "metadata": {},
   "outputs": [
    {
     "data": {
      "text/plain": [
       "<generator object generate_ints at 0x7f348b6dc7b0>"
      ]
     },
     "execution_count": 28,
     "metadata": {},
     "output_type": "execute_result"
    }
   ],
   "source": [
    "gen = generate_ints(3)\n",
    "gen"
   ]
  },
  {
   "cell_type": "code",
   "execution_count": 29,
   "metadata": {},
   "outputs": [
    {
     "data": {
      "text/plain": [
       "0"
      ]
     },
     "execution_count": 29,
     "metadata": {},
     "output_type": "execute_result"
    }
   ],
   "source": [
    "next(gen)"
   ]
  },
  {
   "cell_type": "code",
   "execution_count": 30,
   "metadata": {},
   "outputs": [],
   "source": [
    "def inorder(t):\n",
    "    if t:\n",
    "        for x in inorder(t.left):\n",
    "            yield x\n",
    "\n",
    "        yield t.label\n",
    "\n",
    "        for x in inorder(t.right):\n",
    "            yield x"
   ]
  },
  {
   "cell_type": "code",
   "execution_count": 33,
   "metadata": {},
   "outputs": [
    {
     "data": {
      "text/plain": [
       "'\\n# 제너레이터에 값 전달하기\\n## yield표현식이 되어 변수에 할당할 수 있는 값을 반환하거나 다른 방식으로 작동\\n## val = (yield i)\\n'"
      ]
     },
     "execution_count": 33,
     "metadata": {},
     "output_type": "execute_result"
    }
   ],
   "source": [
    "\"\"\"\n",
    "# 제너레이터에 값 전달하기\n",
    "## yield표현식이 되어 변수에 할당할 수 있는 값을 반환하거나 다른 방식으로 작동\n",
    "## val = (yield i)\n",
    "\"\"\""
   ]
  },
  {
   "cell_type": "code",
   "execution_count": 32,
   "metadata": {},
   "outputs": [],
   "source": [
    "def counter(maximum):\n",
    "    i = 0\n",
    "    while i < maximum:\n",
    "        val = (yield i)\n",
    "        # If value provided, change counter\n",
    "        if val is not None:\n",
    "            i = val\n",
    "        else:\n",
    "            i += 1"
   ]
  },
  {
   "cell_type": "code",
   "execution_count": 34,
   "metadata": {},
   "outputs": [
    {
     "data": {
      "text/plain": [
       "0"
      ]
     },
     "execution_count": 34,
     "metadata": {},
     "output_type": "execute_result"
    }
   ],
   "source": [
    "it = counter(10)  \n",
    "next(it)  "
   ]
  },
  {
   "cell_type": "code",
   "execution_count": 35,
   "metadata": {},
   "outputs": [
    {
     "data": {
      "text/plain": [
       "1"
      ]
     },
     "execution_count": 35,
     "metadata": {},
     "output_type": "execute_result"
    }
   ],
   "source": [
    "next(it)"
   ]
  },
  {
   "cell_type": "code",
   "execution_count": 36,
   "metadata": {},
   "outputs": [
    {
     "data": {
      "text/plain": [
       "8"
      ]
     },
     "execution_count": 36,
     "metadata": {},
     "output_type": "execute_result"
    }
   ],
   "source": [
    "it.send(8)  "
   ]
  },
  {
   "cell_type": "code",
   "execution_count": 37,
   "metadata": {},
   "outputs": [
    {
     "data": {
      "text/plain": [
       "'\\n# send() 생성기\\n## throw(value) : 생성기 내부에서 예외를 발생시키는 데 사용\\n## close() : GeneratorExit 반복을 종료하기 위해 제너레이터 내부에서 예외를 발생\\n'"
      ]
     },
     "execution_count": 37,
     "metadata": {},
     "output_type": "execute_result"
    }
   ],
   "source": [
    "\"\"\"\n",
    "# send() 생성기\n",
    "## throw(value) : 생성기 내부에서 예외를 발생시키는 데 사용\n",
    "## close() : GeneratorExit 반복을 종료하기 위해 제너레이터 내부에서 예외를 발생\n",
    "\"\"\""
   ]
  },
  {
   "cell_type": "code",
   "execution_count": 41,
   "metadata": {},
   "outputs": [
    {
     "data": {
      "text/plain": [
       "'\\n# map(f, iterA, iterB, ...) : 시퀀스에 대한 반복자를 반환\\n# filter(predicate, iter) : 특정 조건을 충족하는 모든 시퀀스 요소에 대해 반복자를 반환하고 목록 내포에 의해 유사하게 복제\\n'"
      ]
     },
     "execution_count": 41,
     "metadata": {},
     "output_type": "execute_result"
    }
   ],
   "source": [
    "# 4️⃣ Built-in functions\n",
    "\"\"\"\n",
    "# map(f, iterA, iterB, ...) : 시퀀스에 대한 반복자를 반환\n",
    "# filter(predicate, iter) : 특정 조건을 충족하는 모든 시퀀스 요소에 대해 반복자를 반환하고 목록 내포에 의해 유사하게 복제\n",
    "\"\"\"\n"
   ]
  },
  {
   "cell_type": "code",
   "execution_count": 38,
   "metadata": {},
   "outputs": [],
   "source": [
    "def upper(s):\n",
    "    return s.upper()"
   ]
  },
  {
   "cell_type": "code",
   "execution_count": 39,
   "metadata": {},
   "outputs": [
    {
     "data": {
      "text/plain": [
       "['SENTENCE', 'FRAGMENT']"
      ]
     },
     "execution_count": 39,
     "metadata": {},
     "output_type": "execute_result"
    }
   ],
   "source": [
    "list(map(upper, ['sentence', 'fragment']))"
   ]
  },
  {
   "cell_type": "code",
   "execution_count": 40,
   "metadata": {},
   "outputs": [
    {
     "data": {
      "text/plain": [
       "['SENTENCE', 'FRAGMENT']"
      ]
     },
     "execution_count": 40,
     "metadata": {},
     "output_type": "execute_result"
    }
   ],
   "source": [
    "[upper(s) for s in ['sentence', 'fragment']]"
   ]
  },
  {
   "cell_type": "code",
   "execution_count": 42,
   "metadata": {},
   "outputs": [],
   "source": [
    "def is_even(x):\n",
    "    return (x % 2) == 0"
   ]
  },
  {
   "cell_type": "code",
   "execution_count": 43,
   "metadata": {},
   "outputs": [
    {
     "data": {
      "text/plain": [
       "[0, 2, 4, 6, 8]"
      ]
     },
     "execution_count": 43,
     "metadata": {},
     "output_type": "execute_result"
    }
   ],
   "source": [
    "list(filter(is_even, range(10)))"
   ]
  },
  {
   "cell_type": "code",
   "execution_count": 44,
   "metadata": {},
   "outputs": [
    {
     "name": "stdout",
     "output_type": "stream",
     "text": [
      "(0, 'subject')\n",
      "(1, 'verb')\n",
      "(2, 'object')\n"
     ]
    }
   ],
   "source": [
    "for item in enumerate(['subject', 'verb', 'object']):\n",
    "    print(item)"
   ]
  },
  {
   "cell_type": "code",
   "execution_count": 45,
   "metadata": {},
   "outputs": [
    {
     "data": {
      "text/plain": [
       "'\\n# sorted(iterable, key=None, reverse=False)\\n: iterable의 모든 요소를 \\u200b\\u200b목록으로 수집하고, 목록을 정렬하고, 정렬된 결과를 반환\\n'"
      ]
     },
     "execution_count": 45,
     "metadata": {},
     "output_type": "execute_result"
    }
   ],
   "source": [
    "\"\"\"\n",
    "# sorted(iterable, key=None, reverse=False)\n",
    ": iterable의 모든 요소를 ​​목록으로 수집하고, 목록을 정렬하고, 정렬된 결과를 반환\n",
    "\"\"\""
   ]
  },
  {
   "cell_type": "code",
   "execution_count": 46,
   "metadata": {},
   "outputs": [
    {
     "data": {
      "text/plain": [
       "[8233, 9261, 9913, 7336, 1900, 55, 1393, 460]"
      ]
     },
     "execution_count": 46,
     "metadata": {},
     "output_type": "execute_result"
    }
   ],
   "source": [
    "import random\n",
    "# Generate 8 random numbers between [0, 10000)\n",
    "rand_list = random.sample(range(10000), 8)\n",
    "rand_list  "
   ]
  },
  {
   "cell_type": "code",
   "execution_count": 47,
   "metadata": {},
   "outputs": [
    {
     "data": {
      "text/plain": [
       "'\\n# any(iter)및 내장 함수 all(iter)\\n: iterable 내용의 진리값을 확인\\n: iterable의 요소가 참 값이면 any()반환 하고 모든 요소가 참 값이면 반환\\n'"
      ]
     },
     "execution_count": 47,
     "metadata": {},
     "output_type": "execute_result"
    }
   ],
   "source": [
    "\"\"\"\n",
    "# any(iter)및 내장 함수 all(iter)\n",
    ": iterable 내용의 진리값을 확인\n",
    ": iterable의 요소가 참 값이면 any()반환 하고 모든 요소가 참 값이면 반환\n",
    "\"\"\""
   ]
  },
  {
   "cell_type": "code",
   "execution_count": 48,
   "metadata": {},
   "outputs": [
    {
     "data": {
      "text/plain": [
       "True"
      ]
     },
     "execution_count": 48,
     "metadata": {},
     "output_type": "execute_result"
    }
   ],
   "source": [
    "any([0, 1, 0])"
   ]
  },
  {
   "cell_type": "code",
   "execution_count": 49,
   "metadata": {},
   "outputs": [
    {
     "data": {
      "text/plain": [
       "False"
      ]
     },
     "execution_count": 49,
     "metadata": {},
     "output_type": "execute_result"
    }
   ],
   "source": [
    "all([0, 0, 0])"
   ]
  },
  {
   "cell_type": "code",
   "execution_count": 50,
   "metadata": {},
   "outputs": [
    {
     "data": {
      "text/plain": [
       "'\\n# zip(iterA, iterB, ...)\\n: 각 iterable에서 하나의 요소를 가져와 튜플로 반환\\n'"
      ]
     },
     "execution_count": 50,
     "metadata": {},
     "output_type": "execute_result"
    }
   ],
   "source": [
    "\"\"\"\n",
    "# zip(iterA, iterB, ...)\n",
    ": 각 iterable에서 하나의 요소를 가져와 튜플로 반환\n",
    "\"\"\""
   ]
  },
  {
   "cell_type": "code",
   "execution_count": 52,
   "metadata": {},
   "outputs": [
    {
     "data": {
      "text/plain": [
       "<zip at 0x7f348b6a7c00>"
      ]
     },
     "execution_count": 52,
     "metadata": {},
     "output_type": "execute_result"
    }
   ],
   "source": [
    "zip(['a', 'b'], (1, 2, 3))"
   ]
  },
  {
   "cell_type": "code",
   "execution_count": 53,
   "metadata": {},
   "outputs": [
    {
     "data": {
      "text/plain": [
       "'\\n모듈의 기능은 몇 가지 광범위한 클래스로 나뉨\\n- 기존 반복자를 기반으로 새 반복자를 만드는 함수\\n- 반복자의 요소를 함수 인수로 취급하는 함수\\n- 반복자 출력의 일부를 선택하는 함수\\n- 반복자의 출력을 그룹화하는 함수\\n'"
      ]
     },
     "execution_count": 53,
     "metadata": {},
     "output_type": "execute_result"
    }
   ],
   "source": [
    "# 5️⃣ The itertools module\n",
    "\"\"\"\n",
    "모듈의 기능은 몇 가지 광범위한 클래스로 나뉨\n",
    "- 기존 반복자를 기반으로 새 반복자를 만드는 함수\n",
    "- 반복자의 요소를 함수 인수로 취급하는 함수\n",
    "- 반복자 출력의 일부를 선택하는 함수\n",
    "- 반복자의 출력을 그룹화하는 함수\n",
    "\"\"\""
   ]
  },
  {
   "cell_type": "code",
   "execution_count": 54,
   "metadata": {},
   "outputs": [
    {
     "data": {
      "text/plain": [
       "'\\n# itertools.count(start, step)\\n: 균일한 간격 값의 무한 스트림을 반환\\n: 선택적으로 시작 번호(기본값: 0)와 번호 사이의 간격(기본값: 1)을 제공\\n'"
      ]
     },
     "execution_count": 54,
     "metadata": {},
     "output_type": "execute_result"
    }
   ],
   "source": [
    "\"\"\"\n",
    "# itertools.count(start, step)\n",
    ": 균일한 간격 값의 무한 스트림을 반환\n",
    ": 선택적으로 시작 번호(기본값: 0)와 번호 사이의 간격(기본값: 1)을 제공\n",
    "\"\"\""
   ]
  },
  {
   "cell_type": "code",
   "execution_count": 56,
   "metadata": {},
   "outputs": [
    {
     "data": {
      "text/plain": [
       "count(0)"
      ]
     },
     "execution_count": 56,
     "metadata": {},
     "output_type": "execute_result"
    }
   ],
   "source": [
    "import itertools\n",
    "itertools.count()"
   ]
  },
  {
   "cell_type": "code",
   "execution_count": 57,
   "metadata": {},
   "outputs": [
    {
     "data": {
      "text/plain": [
       "repeat('abc')"
      ]
     },
     "execution_count": 57,
     "metadata": {},
     "output_type": "execute_result"
    }
   ],
   "source": [
    "itertools.repeat('abc') "
   ]
  },
  {
   "cell_type": "code",
   "execution_count": 59,
   "metadata": {},
   "outputs": [
    {
     "data": {
      "text/plain": [
       "<itertools.starmap at 0x7f34a0739e70>"
      ]
     },
     "execution_count": 59,
     "metadata": {},
     "output_type": "execute_result"
    }
   ],
   "source": [
    "import os\n",
    "itertools.starmap(os.path.join,\n",
    "                  [('/bin', 'python'), ('/usr', 'bin', 'java'),\n",
    "                   ('/usr', 'bin', 'perl'), ('/usr', 'bin', 'ruby')])"
   ]
  },
  {
   "cell_type": "code",
   "execution_count": 61,
   "metadata": {},
   "outputs": [
    {
     "data": {
      "text/plain": [
       "<itertools.filterfalse at 0x7f34a81067a0>"
      ]
     },
     "execution_count": 61,
     "metadata": {},
     "output_type": "execute_result"
    }
   ],
   "source": [
    "# 조건자를 기반으로 반복자 요소의 하위 집합을 선택\n",
    "itertools.filterfalse(is_even, itertools.count())"
   ]
  },
  {
   "cell_type": "code",
   "execution_count": 62,
   "metadata": {},
   "outputs": [
    {
     "data": {
      "text/plain": [
       "<itertools.takewhile at 0x7f348b6808c0>"
      ]
     },
     "execution_count": 62,
     "metadata": {},
     "output_type": "execute_result"
    }
   ],
   "source": [
    "def less_than_10(x):\n",
    "    return x < 10\n",
    "\n",
    "itertools.takewhile(less_than_10, itertools.count()) "
   ]
  },
  {
   "cell_type": "code",
   "execution_count": 63,
   "metadata": {},
   "outputs": [
    {
     "data": {
      "text/plain": [
       "<itertools.dropwhile at 0x7f348b6a65c0>"
      ]
     },
     "execution_count": 63,
     "metadata": {},
     "output_type": "execute_result"
    }
   ],
   "source": [
    "# itertools.dropwhile(predicate, iter) 술어가 true를 반환하는 동안 요소를 버리고 나머지 iterable 결과를 반환\n",
    "itertools.dropwhile(less_than_10, itertools.count())"
   ]
  },
  {
   "cell_type": "code",
   "execution_count": 64,
   "metadata": {},
   "outputs": [
    {
     "data": {
      "text/plain": [
       "'\\n# 조합 함수 \\n: iterable 에 포함된 요소의 가능한 모든 r 튜플 조합을 제공하는 반복자를 반환\\n'"
      ]
     },
     "execution_count": 64,
     "metadata": {},
     "output_type": "execute_result"
    }
   ],
   "source": [
    "\"\"\"\n",
    "# 조합 함수 \n",
    ": iterable 에 포함된 요소의 가능한 모든 r 튜플 조합을 제공하는 반복자를 반환\n",
    "\"\"\""
   ]
  },
  {
   "cell_type": "code",
   "execution_count": 65,
   "metadata": {},
   "outputs": [
    {
     "data": {
      "text/plain": [
       "<itertools.combinations at 0x7f34a9520900>"
      ]
     },
     "execution_count": 65,
     "metadata": {},
     "output_type": "execute_result"
    }
   ],
   "source": [
    "itertools.combinations([1, 2, 3, 4, 5], 2)"
   ]
  },
  {
   "cell_type": "code",
   "execution_count": 68,
   "metadata": {},
   "outputs": [
    {
     "data": {
      "text/plain": [
       "<itertools.permutations at 0x7f34a9523420>"
      ]
     },
     "execution_count": 68,
     "metadata": {},
     "output_type": "execute_result"
    }
   ],
   "source": [
    "itertools.permutations('aba', 3)"
   ]
  },
  {
   "cell_type": "code",
   "execution_count": 70,
   "metadata": {},
   "outputs": [
    {
     "data": {
      "text/plain": [
       "'\\n# 요소 그룹화 \\niterable이 반환하는 각 요소의 키 값을 계산할 수 있는 함수입\\n키 기능을 제공하지 않으면 키는 단순히 각 요소 자체\\n\\n# groupby()\\n: 기본 iterable에서 동일한 키 값을 가진 모든 연속 요소를 수집\\n: 키 값과 해당 키를 가진 요소에 대한 반복자를 포함하는 2-튜플 스트림을 반환\\n'"
      ]
     },
     "execution_count": 70,
     "metadata": {},
     "output_type": "execute_result"
    }
   ],
   "source": [
    "\"\"\"\n",
    "# 요소 그룹화 \n",
    "iterable이 반환하는 각 요소의 키 값을 계산할 수 있는 함수입\n",
    "키 기능을 제공하지 않으면 키는 단순히 각 요소 자체\n",
    "\n",
    "# groupby()\n",
    ": 기본 iterable에서 동일한 키 값을 가진 모든 연속 요소를 수집\n",
    ": 키 값과 해당 키를 가진 요소에 대한 반복자를 포함하는 2-튜플 스트림을 반환\n",
    "\"\"\""
   ]
  },
  {
   "cell_type": "code",
   "execution_count": 71,
   "metadata": {},
   "outputs": [
    {
     "data": {
      "text/plain": [
       "<itertools.groupby at 0x7f348b507150>"
      ]
     },
     "execution_count": 71,
     "metadata": {},
     "output_type": "execute_result"
    }
   ],
   "source": [
    "city_list = [('Decatur', 'AL'), ('Huntsville', 'AL'), ('Selma', 'AL'),\n",
    "             ('Anchorage', 'AK'), ('Nome', 'AK'),\n",
    "             ('Flagstaff', 'AZ'), ('Phoenix', 'AZ'), ('Tucson', 'AZ'),\n",
    "             ...\n",
    "            ]\n",
    "\n",
    "def get_state(city_state):\n",
    "    return city_state[1]\n",
    "\n",
    "itertools.groupby(city_list, get_state)"
   ]
  },
  {
   "cell_type": "code",
   "execution_count": 72,
   "metadata": {},
   "outputs": [
    {
     "data": {
      "text/plain": [
       "'\\n모듈 functools에는 일부 고차 함수가 포함\\n고차 함수는 하나 이상의 함수를 입력으로 사용하고 새 함수를 반환\\n가장 유용한 도구는 functools.partial()함수\\n'"
      ]
     },
     "execution_count": 72,
     "metadata": {},
     "output_type": "execute_result"
    }
   ],
   "source": [
    "# 6️⃣ functools 모듈 \n",
    "\"\"\"\n",
    "모듈 functools에는 일부 고차 함수가 포함\n",
    "고차 함수는 하나 이상의 함수를 입력으로 사용하고 새 함수를 반환\n",
    "가장 유용한 도구는 functools.partial()함수\n",
    "\"\"\""
   ]
  },
  {
   "cell_type": "code",
   "execution_count": 73,
   "metadata": {},
   "outputs": [
    {
     "name": "stdout",
     "output_type": "stream",
     "text": [
      "server: Unable to open socket\n"
     ]
    }
   ],
   "source": [
    "import functools\n",
    "\n",
    "def log(message, subsystem):\n",
    "    \"\"\"Write the contents of 'message' to the specified subsystem.\"\"\"\n",
    "    print('%s: %s' % (subsystem, message))\n",
    "    ...\n",
    "\n",
    "server_log = functools.partial(log, subsystem='server')\n",
    "server_log('Unable to open socket')"
   ]
  },
  {
   "cell_type": "code",
   "execution_count": 74,
   "metadata": {},
   "outputs": [
    {
     "data": {
      "text/plain": [
       "'ABBC'"
      ]
     },
     "execution_count": 74,
     "metadata": {},
     "output_type": "execute_result"
    }
   ],
   "source": [
    "import operator, functools\n",
    "functools.reduce(operator.concat, ['A', 'BB', 'C'])"
   ]
  },
  {
   "cell_type": "code",
   "execution_count": 75,
   "metadata": {},
   "outputs": [
    {
     "data": {
      "text/plain": [
       "10"
      ]
     },
     "execution_count": 75,
     "metadata": {},
     "output_type": "execute_result"
    }
   ],
   "source": [
    "# operator.add()with 를 사용하면 functools.reduce()iterable의 모든 요소를 ​​합산\n",
    "import functools, operator\n",
    "functools.reduce(operator.add, [1, 2, 3, 4], 0)"
   ]
  },
  {
   "cell_type": "code",
   "execution_count": 76,
   "metadata": {},
   "outputs": [],
   "source": [
    "# functools.reduce()명백한 for루프를 작성\n",
    "import functools\n",
    "# Instead of:\n",
    "product = functools.reduce(operator.mul, [1, 2, 3], 1)\n",
    "\n",
    "# You can write:\n",
    "product = 1\n",
    "for i in [1, 2, 3]:\n",
    "    product *= i"
   ]
  },
  {
   "cell_type": "code",
   "execution_count": 77,
   "metadata": {},
   "outputs": [
    {
     "data": {
      "text/plain": [
       "'\\n# 연산자 모듈\\n수학 연산: add(), sub(), mul(), floordiv(), abs()\\n논리 연산: not_(), truth()\\n비트 연산: and_(), or_(), invert()\\n비교: eq(), ne(), lt(), le(), gt()및 ge()\\n개체 ID: is_(), is_not()\\n'"
      ]
     },
     "execution_count": 77,
     "metadata": {},
     "output_type": "execute_result"
    }
   ],
   "source": [
    "\"\"\"\n",
    "# 연산자 모듈\n",
    "수학 연산: add(), sub(), mul(), floordiv(), abs()\n",
    "논리 연산: not_(), truth()\n",
    "비트 연산: and_(), or_(), invert()\n",
    "비교: eq(), ne(), lt(), le(), gt()및 ge()\n",
    "개체 ID: is_(), is_not()\n",
    "\"\"\""
   ]
  },
  {
   "cell_type": "code",
   "execution_count": 82,
   "metadata": {},
   "outputs": [
    {
     "data": {
      "text/plain": [
       "'\\n# 작은 함수를 작성하는 한 가지 방법은 lambda표현식을 사용하는 것\\nlambda여러 매개 변수와 이러한 매개 변수를 결합하는 식을 사용하고 식의 값을 반환하는 익명 함수\\n'"
      ]
     },
     "execution_count": 82,
     "metadata": {},
     "output_type": "execute_result"
    }
   ],
   "source": [
    "# 7️⃣ Small functions and the lambda expression\n",
    "\"\"\"\n",
    "# 작은 함수를 작성하는 한 가지 방법은 lambda표현식을 사용하는 것\n",
    "lambda여러 매개 변수와 이러한 매개 변수를 결합하는 식을 사용하고 식의 값을 반환하는 익명 함수\n",
    "\"\"\""
   ]
  },
  {
   "cell_type": "code",
   "execution_count": 83,
   "metadata": {},
   "outputs": [],
   "source": [
    "adder = lambda x, y: x+y\n",
    "\n",
    "print_assign = lambda name, value: name + '=' + str(value)"
   ]
  },
  {
   "cell_type": "code",
   "execution_count": 84,
   "metadata": {},
   "outputs": [],
   "source": [
    "def adder(x, y):\n",
    "    return x + y\n",
    "\n",
    "def print_assign(name, value):\n",
    "    return name + '=' + str(value)"
   ]
  },
  {
   "cell_type": "code",
   "execution_count": null,
   "metadata": {},
   "outputs": [],
   "source": [
    "import functools\n",
    "total = functools.reduce(lambda a, b: (0, a[1] + b[1]), items)[1]\n",
    "total"
   ]
  },
  {
   "cell_type": "code",
   "execution_count": 86,
   "metadata": {},
   "outputs": [
    {
     "data": {
      "text/plain": [
       "'\\n# Fredrik Lundh\\n람다 함수를 작성\\n람다가 하는 일을 설명하는 주석을 작성\\n댓글을 잠시 살펴보고 댓글의 본질을 포착하는 이름을 생각\\n해당 이름을 사용하여 람다를 def 문으로 변환\\n주석을 제거\\n'"
      ]
     },
     "execution_count": 86,
     "metadata": {},
     "output_type": "execute_result"
    }
   ],
   "source": [
    "\"\"\"\n",
    "# Fredrik Lundh\n",
    "람다 함수를 작성\n",
    "람다가 하는 일을 설명하는 주석을 작성\n",
    "댓글을 잠시 살펴보고 댓글의 본질을 포착하는 이름을 생각\n",
    "해당 이름을 사용하여 람다를 def 문으로 변환\n",
    "주석을 제거\n",
    "\"\"\""
   ]
  }
 ],
 "metadata": {
  "kernelspec": {
   "display_name": "gani",
   "language": "python",
   "name": "python3"
  },
  "language_info": {
   "codemirror_mode": {
    "name": "ipython",
    "version": 3
   },
   "file_extension": ".py",
   "mimetype": "text/x-python",
   "name": "python",
   "nbconvert_exporter": "python",
   "pygments_lexer": "ipython3",
   "version": "3.10.8"
  },
  "orig_nbformat": 4
 },
 "nbformat": 4,
 "nbformat_minor": 2
}
